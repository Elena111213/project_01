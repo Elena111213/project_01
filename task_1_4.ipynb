{
  "nbformat": 4,
  "nbformat_minor": 0,
  "metadata": {
    "colab": {
      "provenance": []
    },
    "kernelspec": {
      "name": "python3",
      "display_name": "Python 3"
    },
    "language_info": {
      "name": "python"
    }
  },
  "cells": [
    {
      "cell_type": "code",
      "source": [
        "titles = {\n",
        "    'Кроссовки тип 3 (Adidas)': '100000110',\n",
        "    'Мячик тип 2 (Adidas)': '100000146',\n",
        "    'Кепка тип 1 (Adidas)': '100000149',\n",
        "    'Ремень тип 2 (Nike)': '100000194',\n",
        "    'Футболка тип 1 (Adidas)': '100000224',\n",
        "    'Шапка тип 5 (Puma)': '100000280',\n",
        "}\n",
        "store = {\n",
        "    '100000110': [{'quantity': 31, 'price': 1637}],\n",
        "    '100000146': [ {'quantity': 4, 'price': 45}, {'quantity': 10, 'price': 48}],\n",
        "    '100000149': [ {'quantity': 28, 'price': 279}, {'quantity': 32, 'price': 291}],\n",
        "    '100000194': [{'quantity': 8, 'price': 220}, {'quantity': 1, 'price': 170}],\n",
        "    '100000224': [{'quantity': 61, 'price': 438}, {'quantity': 23, 'price': 302},  {'quantity': 50, 'price': 412}],\n",
        "    '100000280': [{'quantity': 26, 'price': 175}, ]\n",
        "}\n",
        "for name_titles in titles:\n",
        "  code_titles = titles[name_titles]\n",
        "  total_price = 0\n",
        "  total_quantity = 0\n",
        "  for quantity_price in store[code_titles]:\n",
        "   total_price = total_price + quantity_price['quantity'] * quantity_price['price']\n",
        "  total_quantity += quantity_price['quantity']\n",
        "  print(name_titles, '-', total_quantity, 'шт, общей стоимостью', total_price, 'рублей')\n"
      ],
      "metadata": {
        "colab": {
          "base_uri": "https://localhost:8080/"
        },
        "id": "_VcODqDfHcfG",
        "outputId": "b85f4925-65eb-474a-d553-5d7680bda7c2"
      },
      "execution_count": 58,
      "outputs": [
        {
          "output_type": "stream",
          "name": "stdout",
          "text": [
            "Кроссовки тип 3 (Adidas) - 31 шт, общей стоимостью 50747 рублей\n",
            "Мячик тип 2 (Adidas) - 10 шт, общей стоимостью 660 рублей\n",
            "Кепка тип 1 (Adidas) - 32 шт, общей стоимостью 17124 рублей\n",
            "Ремень тип 2 (Nike) - 1 шт, общей стоимостью 1930 рублей\n",
            "Футболка тип 1 (Adidas) - 50 шт, общей стоимостью 54264 рублей\n",
            "Шапка тип 5 (Puma) - 26 шт, общей стоимостью 4550 рублей\n"
          ]
        }
      ]
    }
  ]
}