{
  "nbformat": 4,
  "nbformat_minor": 0,
  "metadata": {
    "colab": {
      "provenance": []
    },
    "kernelspec": {
      "name": "python3",
      "display_name": "Python 3"
    },
    "language_info": {
      "name": "python"
    }
  },
  "cells": [
    {
      "cell_type": "code",
      "execution_count": 3,
      "metadata": {
        "colab": {
          "base_uri": "https://localhost:8080/"
        },
        "id": "ziZrXtI5mGW_",
        "outputId": "2e9d4c48-9f90-460e-d43a-4b806408d27f"
      },
      "outputs": [
        {
          "output_type": "stream",
          "name": "stdout",
          "text": [
            "HI!!\n"
          ]
        }
      ],
      "source": [
        "def remove_word_with_one():\n",
        "  s = \"HI!! Hi! Hi!\"\n",
        "  splite_line = s.split()\n",
        "  output = \" \"\n",
        "  out_lst = []\n",
        "  for word in splite_line:\n",
        "    lst = list(word)\n",
        "    count_ = word.count(\"!\")\n",
        "    if count_ != 1:\n",
        "      out_lst.append(word)\n",
        "  output = ' '.join(out_lst)\n",
        "  return output\n",
        "print(remove_word_with_one())"
      ]
    }
  ]
}