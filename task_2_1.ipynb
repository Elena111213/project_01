{
  "nbformat": 4,
  "nbformat_minor": 0,
  "metadata": {
    "colab": {
      "provenance": []
    },
    "kernelspec": {
      "name": "python3",
      "display_name": "Python 3"
    },
    "language_info": {
      "name": "python"
    }
  },
  "cells": [
    {
      "cell_type": "code",
      "execution_count": 24,
      "metadata": {
        "colab": {
          "base_uri": "https://localhost:8080/"
        },
        "id": "VRRRcE-ztfY_",
        "outputId": "98cf4bbb-3b20-4938-ce11-1ff4084a9404"
      },
      "outputs": [
        {
          "output_type": "stream",
          "name": "stdout",
          "text": [
            "-110\n"
          ]
        }
      ],
      "source": [
        "def minimum(arr):\n",
        "  min = arr[0]\n",
        "  if len(arr) == 0:\n",
        "    return False\n",
        "  for i in arr:\n",
        "     if i<min:\n",
        "      min = i\n",
        "  return min\n",
        "arr = [-52, 56, 30, 29, -54, 0, -110]\n",
        "print(minimum(arr))\n"
      ]
    },
    {
      "cell_type": "code",
      "source": [
        "def maximum(arr):\n",
        "  max = arr[0]\n",
        "  if len(arr) == 0:\n",
        "   return False\n",
        "  for i in arr:\n",
        "      if i>max:\n",
        "       max = i\n",
        "  return max\n",
        "arr = [-52, 56, 30, 29, -54, 0, -110]\n",
        "print(maximum(arr))"
      ],
      "metadata": {
        "colab": {
          "base_uri": "https://localhost:8080/"
        },
        "id": "mtqa7-d-zQY3",
        "outputId": "4441e069-8b22-41d4-c55c-f4508e13d757"
      },
      "execution_count": 25,
      "outputs": [
        {
          "output_type": "stream",
          "name": "stdout",
          "text": [
            "56\n"
          ]
        }
      ]
    }
  ]
}