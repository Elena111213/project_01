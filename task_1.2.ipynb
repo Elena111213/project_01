{
  "nbformat": 4,
  "nbformat_minor": 0,
  "metadata": {
    "colab": {
      "provenance": []
    },
    "kernelspec": {
      "name": "python3",
      "display_name": "Python 3"
    },
    "language_info": {
      "name": "python"
    }
  },
  "cells": [
    {
      "cell_type": "code",
      "source": [
        "my_favorite_songs = [\n",
        "    ['Waste a Moment', 3.03],\n",
        "    ['New Salvation', 4.02],\n",
        "    ['Staying\\' Alive', 3.40],\n",
        "    ['Out of Touch', 3.03],\n",
        "    ['A Sorta Fairytale', 5.28],\n",
        "    ['Easy', 4.15],\n",
        "    ['Beautiful Day', 4.04],\n",
        "    ['Nowhere to Run', 2.58],\n",
        "    ['In This World', 4.02],\n",
        "    ]\n",
        "    \n",
        "out_of_touch_song = my_favorite_songs[3][1]\n",
        "easy_song = my_favorite_songs[5][1]\n",
        "In_this_song = my_favorite_songs[8][1]\n",
        "summa_songs = out_of_touch_song + easy_song + In_this_song\n",
        "print('Три песни звучат -' , summa_songs, 'минут')\n",
        "import random\n",
        "random_songs = my_favorite_songs\n",
        "print('Выбор случайных песен из списка - ', random. choice (random_songs))"
      ],
      "metadata": {
        "colab": {
          "base_uri": "https://localhost:8080/"
        },
        "id": "yQNFsxLiC1Xo",
        "outputId": "b9869182-23d4-400c-d6c2-42b2d0c5dafa"
      },
      "execution_count": 46,
      "outputs": [
        {
          "output_type": "stream",
          "name": "stdout",
          "text": [
            "Три песни звучат - 11.2 минут\n",
            "Выбор случайных песен из списка -  ['In This World', 4.02]\n"
          ]
        }
      ]
    },
    {
      "cell_type": "code",
      "source": [
        "my_favorite_songs_dict = {\n",
        "    'Waste a Moment': 3.03,\n",
        "    'New Salvation': 4.02,\n",
        "    'Staying\\' Alive': 3.40,\n",
        "    'Out of Touch': 3.03,\n",
        "    'A Sorta Fairytale': 5.28,\n",
        "    'Easy': 4.15,\n",
        "    'Beautiful Day': 4.04,\n",
        "    'Nowhere to Run': 2.58,\n",
        "    'In This World': 4.02,\n",
        "}\n",
        "new_song = my_favorite_songs_dict['New Salvation']\n",
        "beautiful_song = my_favorite_songs_dict['Beautiful Day']\n",
        "nowhere_song = my_favorite_songs_dict['Nowhere to Run']\n",
        "summa_songs_2 = new_song + beautiful_song + nowhere_song\n",
        "print('А другие три песни звучат:', summa_songs_2, 'минут')\n",
        "import datetime\n",
        "from datetime import time\n",
        "# time(minute, second)\n",
        "x = time(10, 6)\n",
        "print(x)"
      ],
      "metadata": {
        "colab": {
          "base_uri": "https://localhost:8080/"
        },
        "id": "iQ49GFgWDHli",
        "outputId": "986320e1-6f29-4dc7-9fcd-a284fae836ac"
      },
      "execution_count": 51,
      "outputs": [
        {
          "output_type": "stream",
          "name": "stdout",
          "text": [
            "А другие три песни звучат: 10.639999999999999 минут\n",
            "10:06:00\n"
          ]
        }
      ]
    }
  ]
}