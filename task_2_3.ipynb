{
  "nbformat": 4,
  "nbformat_minor": 0,
  "metadata": {
    "colab": {
      "provenance": []
    },
    "kernelspec": {
      "name": "python3",
      "display_name": "Python 3"
    },
    "language_info": {
      "name": "python"
    }
  },
  "cells": [
    {
      "cell_type": "code",
      "source": [
        "def switch_it_up(number):\n",
        "  dict = {\n",
        "      0: \"Zero\",\n",
        "      1: \"One\", \n",
        "      2: \"Two\", \n",
        "      3: \"Three\",\n",
        "      4: \"Four\",\n",
        "      5: \"Five\",\n",
        "      6: \"Six\",\n",
        "      7: \"Seven\",\n",
        "      8: \"Eight\",\n",
        "      9: \"Nine\", }\n",
        "  return dict.get(number)\n",
        "print(switch_it_up(1))"
      ],
      "metadata": {
        "colab": {
          "base_uri": "https://localhost:8080/"
        },
        "id": "kCma2jZg5sfQ",
        "outputId": "2db63800-badd-4beb-db89-6146103ca5f0"
      },
      "execution_count": 26,
      "outputs": [
        {
          "output_type": "stream",
          "name": "stdout",
          "text": [
            "One\n"
          ]
        }
      ]
    }
  ]
}