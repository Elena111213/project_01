{
  "nbformat": 4,
  "nbformat_minor": 0,
  "metadata": {
    "colab": {
      "provenance": []
    },
    "kernelspec": {
      "name": "python3",
      "display_name": "Python 3"
    },
    "language_info": {
      "name": "python"
    }
  },
  "cells": [
    {
      "cell_type": "code",
      "execution_count": 17,
      "metadata": {
        "id": "EVjDpYfgnA3o",
        "colab": {
          "base_uri": "https://localhost:8080/"
        },
        "outputId": "9fa2ae37-4a18-4310-efa2-41a05475cae8"
      },
      "outputs": [
        {
          "output_type": "execute_result",
          "data": {
            "text/plain": [
              "4"
            ]
          },
          "metadata": {},
          "execution_count": 17
        }
      ],
      "source": [
        "def quarter_of(month: int) -> int:\n",
        "  \"\"\" This function returns to which quarter of the year it belongs as an integer number. \"\"\"\n",
        "  quartal = {1: [1, 2,3],\n",
        "             2: [4, 5, 6],\n",
        "             3: [7, 8, 9],\n",
        "             4: [10, 11, 12]}\n",
        "  for key, val in quartal.items():\n",
        "    for i in val:\n",
        "      if i == month:\n",
        "        return key\n",
        "        print(key)\n",
        "quarter_of(11)\n",
        "\n",
        "        \n",
        "        \n",
        "\n",
        "      "
      ]
    }
  ]
}