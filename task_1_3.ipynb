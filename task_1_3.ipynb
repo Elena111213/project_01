{
  "nbformat": 4,
  "nbformat_minor": 0,
  "metadata": {
    "colab": {
      "provenance": []
    },
    "kernelspec": {
      "name": "python3",
      "display_name": "Python 3"
    },
    "language_info": {
      "name": "python"
    }
  },
  "cells": [
    {
      "cell_type": "code",
      "execution_count": 33,
      "metadata": {
        "colab": {
          "base_uri": "https://localhost:8080/"
        },
        "id": "TzPfjBWK6JZf",
        "outputId": "50b6e49d-b0fb-4f92-b215-8664dc5f555f"
      },
      "outputs": [
        {
          "output_type": "stream",
          "name": "stdout",
          "text": [
            "Введите, пожалуйста, номер месяца:5\n",
            "Вы ввели 5\n",
            "в этом месяце 31 день\n"
          ]
        }
      ],
      "source": [
        "user_input = input(\"Введите, пожалуйста, номер месяца:\")\n",
        "month = int(user_input)\n",
        "print('Вы ввели', month)\n",
        "\n",
        "if 0 < month <13:\n",
        "  if month in (1, 3, 5, 7, 8, 10, 12):\n",
        "      print('в этом месяце', 31, 'день')\n",
        "elif month in (4, 6, 9, 11):\n",
        "      print('в этом месяце', 30, 'дней')\n",
        "elif month == 2:\n",
        "      print('в этом месяце', 28, 'дней')\n",
        "else:\n",
        "      print('Вы ввели некорректное число. Введите число от 1 до 12.')"
      ]
    }
  ]
}