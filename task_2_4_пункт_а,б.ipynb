{
  "nbformat": 4,
  "nbformat_minor": 0,
  "metadata": {
    "colab": {
      "provenance": []
    },
    "kernelspec": {
      "name": "python3",
      "display_name": "Python 3"
    },
    "language_info": {
      "name": "python"
    }
  },
  "cells": [
    {
      "cell_type": "code",
      "source": [
        "def remove_exclamation_marks(s):\n",
        "  return s.replace(\"!\", \"\")\n",
        "s = (\"Hi! Hello!\")\n",
        "print (remove_exclamation_marks(s))"
      ],
      "metadata": {
        "colab": {
          "base_uri": "https://localhost:8080/"
        },
        "id": "6hAafBXWwWCN",
        "outputId": "e381cd3c-6016-46e7-dcc2-074aef2f73f3"
      },
      "execution_count": 15,
      "outputs": [
        {
          "output_type": "stream",
          "name": "stdout",
          "text": [
            "Hi Hello\n"
          ]
        }
      ]
    },
    {
      "cell_type": "code",
      "source": [
        "def remove_last_em(s):\n",
        "  i = 0\n",
        "  while i<1 and s[-1] ==\"!\":\n",
        "    s = s[:-1]\n",
        "    i+=1\n",
        "    return s\n",
        "print(remove_last_em(\"HI!\"))\n",
        "print(remove_last_em(\"HI!!!\"))\n",
        "print(remove_last_em(\"!HI!\"))"
      ],
      "metadata": {
        "colab": {
          "base_uri": "https://localhost:8080/"
        },
        "id": "M3LTonDUwabF",
        "outputId": "6bc45823-2f69-4894-edde-6e69a1e33827"
      },
      "execution_count": 16,
      "outputs": [
        {
          "output_type": "stream",
          "name": "stdout",
          "text": [
            "HI\n",
            "HI!!\n",
            "!HI\n"
          ]
        }
      ]
    }
  ]
}