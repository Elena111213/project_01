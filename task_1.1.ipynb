{
  "nbformat": 4,
  "nbformat_minor": 0,
  "metadata": {
    "colab": {
      "provenance": []
    },
    "kernelspec": {
      "name": "python3",
      "display_name": "Python 3"
    },
    "language_info": {
      "name": "python"
    }
  },
  "cells": [
    {
      "cell_type": "code",
      "execution_count": 15,
      "metadata": {
        "colab": {
          "base_uri": "https://localhost:8080/"
        },
        "id": "NkmAb8sBIpgd",
        "outputId": "ad360f2e-175d-463f-a12a-c2d5373d62af"
      },
      "outputs": [
        {
          "output_type": "stream",
          "name": "stdout",
          "text": [
            "Waste a Moment\n",
            " New Salvation\n",
            " Staying' Alive\n",
            " Start Me Up\n"
          ]
        }
      ],
      "source": [
        "my_favorite_songs = 'Waste a Moment, Staying\\' Alive, A Sorta Fairytale, Start Me Up, New Salvation'\n",
        "string_lenght = len(my_favorite_songs)\n",
        "print(my_favorite_songs[0:14])\n",
        "print(my_favorite_songs[-14:])\n",
        "print(my_favorite_songs[15:30])\n",
        "print(my_favorite_songs[-27:-15])"
      ]
    },
    {
      "cell_type": "code",
      "source": [],
      "metadata": {
        "id": "VYnGw-jhIwkr"
      },
      "execution_count": null,
      "outputs": []
    }
  ]
}